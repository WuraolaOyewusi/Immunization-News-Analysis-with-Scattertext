{
  "nbformat": 4,
  "nbformat_minor": 0,
  "metadata": {
    "colab": {
      "name": "Immunization_News_Data Preprocessing.ipynb",
      "provenance": [],
      "authorship_tag": "ABX9TyOzz5I7tJkJ9+fNEj86rzqV",
      "include_colab_link": true
    },
    "kernelspec": {
      "name": "python3",
      "display_name": "Python 3"
    }
  },
  "cells": [
    {
      "cell_type": "markdown",
      "metadata": {
        "id": "view-in-github",
        "colab_type": "text"
      },
      "source": [
        "<a href=\"https://colab.research.google.com/github/WuraolaOyewusi/Immunization-News-Analysis-with-Scattertext/blob/master/Immunization_News_Data_Preprocessing.ipynb\" target=\"_parent\"><img src=\"https://colab.research.google.com/assets/colab-badge.svg\" alt=\"Open In Colab\"/></a>"
      ]
    },
    {
      "cell_type": "markdown",
      "metadata": {
        "id": "9DSQUKIiS9Y_",
        "colab_type": "text"
      },
      "source": [
        "##The dataset that is being preprocessed here is from a previous data curation effort of Medical related News [headlines](https://medium.com/@oyewusiwuraola/health-related-headlines-datasets-for-natural-language-processing-nlp-df321702c78a?source=your_stories_page---------------------------) by [Wuraola Oyewusi](https://github.com/WuraolaOyewusi).\n",
        "\n",
        "##At the end of this notebook there will be a dataset of about 2700 rows news date, source,headeline,teaser and label about children and adult immunization\n",
        "\n",
        "##The author intentionally showed all steps involved so whoever is working through the notebook can become better at data wrangling with python [pandas library](https://pandas.pydata.org/)."
      ]
    },
    {
      "cell_type": "code",
      "metadata": {
        "id": "WUrKwOvn3UN6",
        "colab_type": "code",
        "colab": {}
      },
      "source": [
        "#Download Raw Dataset\n",
        "!wget https://raw.githubusercontent.com/WuraolaOyewusi/Health-Related-Headlines-Datasets-for-Natural-Language-Processing/master/Adult_Immunization_Features_Headlines.csv\n",
        "!wget https://raw.githubusercontent.com/WuraolaOyewusi/Health-Related-Headlines-Datasets-for-Natural-Language-Processing/master/Adult_Immunization_News_Headlines.csv\n",
        "!wget https://raw.githubusercontent.com/WuraolaOyewusi/Health-Related-Headlines-Datasets-for-Natural-Language-Processing/master/Peadiatric_Immunization_Features_Headlines.csv\n",
        "!wget https://raw.githubusercontent.com/WuraolaOyewusi/Health-Related-Headlines-Datasets-for-Natural-Language-Processing/master/Peadiatric_Immunization_News_Headlines.csv"
      ],
      "execution_count": null,
      "outputs": []
    },
    {
      "cell_type": "code",
      "metadata": {
        "id": "-KccxDuDux6_",
        "colab_type": "code",
        "colab": {}
      },
      "source": [
        "import pandas as pd"
      ],
      "execution_count": 2,
      "outputs": []
    },
    {
      "cell_type": "code",
      "metadata": {
        "id": "bgMHBCHju6Z8",
        "colab_type": "code",
        "colab": {}
      },
      "source": [
        "adult_immunization_features = pd.read_csv('/content/Adult_Immunization_Features_Headlines.csv')\n",
        "#adult_immunization_features.info()"
      ],
      "execution_count": 13,
      "outputs": []
    },
    {
      "cell_type": "code",
      "metadata": {
        "id": "br0yLM_X5m_X",
        "colab_type": "code",
        "colab": {}
      },
      "source": [
        "adult_immunization_headlines = pd.read_csv('/content/Adult_Immunization_News_Headlines.csv')\n",
        "#adult_immunization_headlines.info()"
      ],
      "execution_count": 15,
      "outputs": []
    },
    {
      "cell_type": "code",
      "metadata": {
        "id": "-YpeeFiMw5Nj",
        "colab_type": "code",
        "colab": {}
      },
      "source": [
        "adult_immunization_df = pd.concat([adult_immunization_features,adult_immunization_headlines])"
      ],
      "execution_count": 18,
      "outputs": []
    },
    {
      "cell_type": "code",
      "metadata": {
        "id": "UfwXB3AR5-3t",
        "colab_type": "code",
        "colab": {
          "base_uri": "https://localhost:8080/",
          "height": 196
        },
        "outputId": "9235b2d8-9b1f-4e61-a69d-be1282e5806e"
      },
      "source": [
        "adult_immunization_df.info()"
      ],
      "execution_count": 19,
      "outputs": [
        {
          "output_type": "stream",
          "text": [
            "<class 'pandas.core.frame.DataFrame'>\n",
            "Int64Index: 1848 entries, 0 to 1481\n",
            "Data columns (total 4 columns):\n",
            " #   Column     Non-Null Count  Dtype \n",
            "---  ------     --------------  ----- \n",
            " 0   Date       1848 non-null   object\n",
            " 1   Source     1848 non-null   object\n",
            " 2   Headlines  1848 non-null   object\n",
            " 3   Teaser     1848 non-null   object\n",
            "dtypes: object(4)\n",
            "memory usage: 72.2+ KB\n"
          ],
          "name": "stdout"
        }
      ]
    },
    {
      "cell_type": "code",
      "metadata": {
        "id": "VhjqM-vQ6Ep_",
        "colab_type": "code",
        "colab": {
          "base_uri": "https://localhost:8080/",
          "height": 196
        },
        "outputId": "5c72dee3-e053-4c02-adcf-87e2b0003f11"
      },
      "source": [
        "peadiatric_immunization_features = pd.read_csv('/content/Peadiatric_Immunization_Features_Headlines.csv')\n",
        "#peadiatric_immunization_features.info()"
      ],
      "execution_count": 23,
      "outputs": [
        {
          "output_type": "stream",
          "text": [
            "<class 'pandas.core.frame.DataFrame'>\n",
            "RangeIndex: 463 entries, 0 to 462\n",
            "Data columns (total 4 columns):\n",
            " #   Column     Non-Null Count  Dtype \n",
            "---  ------     --------------  ----- \n",
            " 0   Date       463 non-null    object\n",
            " 1   Source     463 non-null    object\n",
            " 2   Headlines  463 non-null    object\n",
            " 3   Teaser     463 non-null    object\n",
            "dtypes: object(4)\n",
            "memory usage: 14.6+ KB\n"
          ],
          "name": "stdout"
        }
      ]
    },
    {
      "cell_type": "code",
      "metadata": {
        "id": "OnhwWwLG6cXx",
        "colab_type": "code",
        "colab": {
          "base_uri": "https://localhost:8080/",
          "height": 196
        },
        "outputId": "86da15ec-783b-4a8a-aede-a84ac528d9bd"
      },
      "source": [
        "peadiatric_immunization_headlines = pd.read_csv('/content/Peadiatric_Immunization_News_Headlines.csv')\n",
        "#peadiatric_immunization_headlines.info()"
      ],
      "execution_count": 22,
      "outputs": [
        {
          "output_type": "stream",
          "text": [
            "<class 'pandas.core.frame.DataFrame'>\n",
            "RangeIndex: 418 entries, 0 to 417\n",
            "Data columns (total 4 columns):\n",
            " #   Column     Non-Null Count  Dtype \n",
            "---  ------     --------------  ----- \n",
            " 0   Date       418 non-null    object\n",
            " 1   Source     418 non-null    object\n",
            " 2   Headlines  418 non-null    object\n",
            " 3   Teaser     418 non-null    object\n",
            "dtypes: object(4)\n",
            "memory usage: 13.2+ KB\n"
          ],
          "name": "stdout"
        }
      ]
    },
    {
      "cell_type": "code",
      "metadata": {
        "id": "YScYmeJa6ei4",
        "colab_type": "code",
        "colab": {
          "base_uri": "https://localhost:8080/",
          "height": 196
        },
        "outputId": "ce61858a-79ef-43f0-f6b5-f7e6aa4be492"
      },
      "source": [
        "peadiatric_immunization_df = pd.concat([peadiatric_immunization_features,peadiatric_immunization_headlines])\n",
        "peadiatric_immunization_df.info()"
      ],
      "execution_count": 24,
      "outputs": [
        {
          "output_type": "stream",
          "text": [
            "<class 'pandas.core.frame.DataFrame'>\n",
            "Int64Index: 881 entries, 0 to 417\n",
            "Data columns (total 4 columns):\n",
            " #   Column     Non-Null Count  Dtype \n",
            "---  ------     --------------  ----- \n",
            " 0   Date       881 non-null    object\n",
            " 1   Source     881 non-null    object\n",
            " 2   Headlines  881 non-null    object\n",
            " 3   Teaser     881 non-null    object\n",
            "dtypes: object(4)\n",
            "memory usage: 34.4+ KB\n"
          ],
          "name": "stdout"
        }
      ]
    },
    {
      "cell_type": "code",
      "metadata": {
        "id": "QADZWD4W9pCa",
        "colab_type": "code",
        "colab": {}
      },
      "source": [
        "adult_immunization_df['Label'] = 'Adult'"
      ],
      "execution_count": null,
      "outputs": []
    },
    {
      "cell_type": "code",
      "metadata": {
        "id": "A6Jn_a2t8Mrk",
        "colab_type": "code",
        "colab": {
          "base_uri": "https://localhost:8080/",
          "height": 191
        },
        "outputId": "c8229d77-a8ca-43fb-c2bd-64fb3cb9fd67"
      },
      "source": [
        "adult_immunization_df.head()"
      ],
      "execution_count": 27,
      "outputs": [
        {
          "output_type": "execute_result",
          "data": {
            "text/html": [
              "<div>\n",
              "<style scoped>\n",
              "    .dataframe tbody tr th:only-of-type {\n",
              "        vertical-align: middle;\n",
              "    }\n",
              "\n",
              "    .dataframe tbody tr th {\n",
              "        vertical-align: top;\n",
              "    }\n",
              "\n",
              "    .dataframe thead th {\n",
              "        text-align: right;\n",
              "    }\n",
              "</style>\n",
              "<table border=\"1\" class=\"dataframe\">\n",
              "  <thead>\n",
              "    <tr style=\"text-align: right;\">\n",
              "      <th></th>\n",
              "      <th>Date</th>\n",
              "      <th>Source</th>\n",
              "      <th>Headlines</th>\n",
              "      <th>Teaser</th>\n",
              "      <th>Label</th>\n",
              "    </tr>\n",
              "  </thead>\n",
              "  <tbody>\n",
              "    <tr>\n",
              "      <th>0</th>\n",
              "      <td>October 2004</td>\n",
              "      <td>Medscape Infectious Diseases</td>\n",
              "      <td>Infectious Diseases: October 30, 2004</td>\n",
              "      <td>Dr. Bartlett reviews the latest on influenza, ...</td>\n",
              "      <td>Adult</td>\n",
              "    </tr>\n",
              "    <tr>\n",
              "      <th>1</th>\n",
              "      <td>July 2004</td>\n",
              "      <td>Journal of the American Board of Family Medicine</td>\n",
              "      <td>Influenza Vaccination in Pregnancy</td>\n",
              "      <td>Are enough family physicians and obstetricians...</td>\n",
              "      <td>Adult</td>\n",
              "    </tr>\n",
              "    <tr>\n",
              "      <th>2</th>\n",
              "      <td>June 2004</td>\n",
              "      <td>Medscape Nurses</td>\n",
              "      <td>Bacterial Meningitis: A Deadly But Preventable...</td>\n",
              "      <td>Those whose lives have been touched by this le...</td>\n",
              "      <td>Adult</td>\n",
              "    </tr>\n",
              "    <tr>\n",
              "      <th>3</th>\n",
              "      <td>April 2004</td>\n",
              "      <td>Alimentary Pharmacology &amp; Therapeutics</td>\n",
              "      <td>Hepatitis Vaccination in Patients With Chronic...</td>\n",
              "      <td>Despite a declining incidence of acute viral h...</td>\n",
              "      <td>Adult</td>\n",
              "    </tr>\n",
              "    <tr>\n",
              "      <th>4</th>\n",
              "      <td>November 2003</td>\n",
              "      <td>Medscape Infectious Diseases</td>\n",
              "      <td>Emerging Infections</td>\n",
              "      <td>Dr. John Bartlett reports on the latest data f...</td>\n",
              "      <td>Adult</td>\n",
              "    </tr>\n",
              "  </tbody>\n",
              "</table>\n",
              "</div>"
            ],
            "text/plain": [
              "               Date  ...  Label\n",
              "0     October 2004   ...  Adult\n",
              "1        July 2004   ...  Adult\n",
              "2        June 2004   ...  Adult\n",
              "3       April 2004   ...  Adult\n",
              "4    November 2003   ...  Adult\n",
              "\n",
              "[5 rows x 5 columns]"
            ]
          },
          "metadata": {
            "tags": []
          },
          "execution_count": 27
        }
      ]
    },
    {
      "cell_type": "code",
      "metadata": {
        "id": "mHIdGN9w9F5M",
        "colab_type": "code",
        "colab": {}
      },
      "source": [
        "peadiatric_immunization_df['Label'] = 'Child'"
      ],
      "execution_count": 28,
      "outputs": []
    },
    {
      "cell_type": "code",
      "metadata": {
        "id": "SwRkb4Zc9knL",
        "colab_type": "code",
        "colab": {
          "base_uri": "https://localhost:8080/",
          "height": 191
        },
        "outputId": "9ce0a290-9e8d-4c86-c9af-e04e2c9da9a2"
      },
      "source": [
        "peadiatric_immunization_df.head()"
      ],
      "execution_count": 30,
      "outputs": [
        {
          "output_type": "execute_result",
          "data": {
            "text/html": [
              "<div>\n",
              "<style scoped>\n",
              "    .dataframe tbody tr th:only-of-type {\n",
              "        vertical-align: middle;\n",
              "    }\n",
              "\n",
              "    .dataframe tbody tr th {\n",
              "        vertical-align: top;\n",
              "    }\n",
              "\n",
              "    .dataframe thead th {\n",
              "        text-align: right;\n",
              "    }\n",
              "</style>\n",
              "<table border=\"1\" class=\"dataframe\">\n",
              "  <thead>\n",
              "    <tr style=\"text-align: right;\">\n",
              "      <th></th>\n",
              "      <th>Date</th>\n",
              "      <th>Source</th>\n",
              "      <th>Headlines</th>\n",
              "      <th>Teaser</th>\n",
              "      <th>Label</th>\n",
              "    </tr>\n",
              "  </thead>\n",
              "  <tbody>\n",
              "    <tr>\n",
              "      <th>0</th>\n",
              "      <td>November 2003</td>\n",
              "      <td>Medscape Infectious Diseases</td>\n",
              "      <td>Prophylactic Strategies for Pediatric Infectio...</td>\n",
              "      <td>Anne Gershon, MD, reviews new data presented a...</td>\n",
              "      <td>Child</td>\n",
              "    </tr>\n",
              "    <tr>\n",
              "      <th>1</th>\n",
              "      <td>November 2003</td>\n",
              "      <td>Medscape Infectious Diseases</td>\n",
              "      <td>Antimicrobial Resistance in Community-Acquired...</td>\n",
              "      <td>Anne Gershon, MD, reviews new data presented a...</td>\n",
              "      <td>Child</td>\n",
              "    </tr>\n",
              "    <tr>\n",
              "      <th>2</th>\n",
              "      <td>November 2003</td>\n",
              "      <td>Medscape Infectious Diseases</td>\n",
              "      <td>New Organisms, New Drugs, New Tests, New Guide...</td>\n",
              "      <td>What do infectious disease clinicians need to ...</td>\n",
              "      <td>Child</td>\n",
              "    </tr>\n",
              "    <tr>\n",
              "      <th>3</th>\n",
              "      <td>October 2003</td>\n",
              "      <td>Liver International</td>\n",
              "      <td>Decreasing Incidence of Hepatocellular Carcino...</td>\n",
              "      <td>Primary liver cancer is one of the 10 most com...</td>\n",
              "      <td>Child</td>\n",
              "    </tr>\n",
              "    <tr>\n",
              "      <th>4</th>\n",
              "      <td>September 2003</td>\n",
              "      <td>Medscape Pulmonary Medicine</td>\n",
              "      <td>MEDLINE Abstracts: Pertussis</td>\n",
              "      <td>Could Bordetella pertussis be making a comebac...</td>\n",
              "      <td>Child</td>\n",
              "    </tr>\n",
              "  </tbody>\n",
              "</table>\n",
              "</div>"
            ],
            "text/plain": [
              "                Date  ...  Label\n",
              "0     November 2003   ...  Child\n",
              "1     November 2003   ...  Child\n",
              "2     November 2003   ...  Child\n",
              "3      October 2003   ...  Child\n",
              "4    September 2003   ...  Child\n",
              "\n",
              "[5 rows x 5 columns]"
            ]
          },
          "metadata": {
            "tags": []
          },
          "execution_count": 30
        }
      ]
    },
    {
      "cell_type": "code",
      "metadata": {
        "id": "MlGmrcaj9TWz",
        "colab_type": "code",
        "colab": {}
      },
      "source": [
        "immunization_df = pd.concat([adult_immunization_df,peadiatric_immunization_df])"
      ],
      "execution_count": 29,
      "outputs": []
    },
    {
      "cell_type": "code",
      "metadata": {
        "id": "ma6BkHBV9j4H",
        "colab_type": "code",
        "colab": {
          "base_uri": "https://localhost:8080/",
          "height": 212
        },
        "outputId": "84bc1c2c-cbc1-4a2e-b69a-45b5c5cc4ada"
      },
      "source": [
        "immunization_df.info()"
      ],
      "execution_count": 31,
      "outputs": [
        {
          "output_type": "stream",
          "text": [
            "<class 'pandas.core.frame.DataFrame'>\n",
            "Int64Index: 2729 entries, 0 to 417\n",
            "Data columns (total 5 columns):\n",
            " #   Column     Non-Null Count  Dtype \n",
            "---  ------     --------------  ----- \n",
            " 0   Date       2729 non-null   object\n",
            " 1   Source     2729 non-null   object\n",
            " 2   Headlines  2729 non-null   object\n",
            " 3   Teaser     2729 non-null   object\n",
            " 4   Label      2729 non-null   object\n",
            "dtypes: object(5)\n",
            "memory usage: 127.9+ KB\n"
          ],
          "name": "stdout"
        }
      ]
    },
    {
      "cell_type": "code",
      "metadata": {
        "id": "xk7YirRo9y-9",
        "colab_type": "code",
        "colab": {
          "base_uri": "https://localhost:8080/",
          "height": 191
        },
        "outputId": "4496e84a-e46d-4514-bdaa-9df1ecebd1c9"
      },
      "source": [
        "immunization_df.tail()"
      ],
      "execution_count": 36,
      "outputs": [
        {
          "output_type": "execute_result",
          "data": {
            "text/html": [
              "<div>\n",
              "<style scoped>\n",
              "    .dataframe tbody tr th:only-of-type {\n",
              "        vertical-align: middle;\n",
              "    }\n",
              "\n",
              "    .dataframe tbody tr th {\n",
              "        vertical-align: top;\n",
              "    }\n",
              "\n",
              "    .dataframe thead th {\n",
              "        text-align: right;\n",
              "    }\n",
              "</style>\n",
              "<table border=\"1\" class=\"dataframe\">\n",
              "  <thead>\n",
              "    <tr style=\"text-align: right;\">\n",
              "      <th></th>\n",
              "      <th>Date</th>\n",
              "      <th>Source</th>\n",
              "      <th>Headlines</th>\n",
              "      <th>Headline_teaser</th>\n",
              "      <th>Label</th>\n",
              "    </tr>\n",
              "  </thead>\n",
              "  <tbody>\n",
              "    <tr>\n",
              "      <th>413</th>\n",
              "      <td>December 2018</td>\n",
              "      <td>Medscape Medical News</td>\n",
              "      <td>Influenza Vaccine Halves Risk of Hospitalization</td>\n",
              "      <td>Vaccination halved the risk of influenza-assoc...</td>\n",
              "      <td>Child</td>\n",
              "    </tr>\n",
              "    <tr>\n",
              "      <th>414</th>\n",
              "      <td>October 2018</td>\n",
              "      <td>International Approvals</td>\n",
              "      <td>Cell-Based Quadrivalent Flu Vaccine Recommende...</td>\n",
              "      <td>The EMA CHMP has recommended granting marketin...</td>\n",
              "      <td>Child</td>\n",
              "    </tr>\n",
              "    <tr>\n",
              "      <th>415</th>\n",
              "      <td>October 2018</td>\n",
              "      <td>International Approvals</td>\n",
              "      <td>EU Panel Recommends Marketing Authorization fo...</td>\n",
              "      <td>The EMA CHMP has recommended marketing authori...</td>\n",
              "      <td>Child</td>\n",
              "    </tr>\n",
              "    <tr>\n",
              "      <th>416</th>\n",
              "      <td>October 2018</td>\n",
              "      <td>Medscape Medical News</td>\n",
              "      <td>Several Influenza Deaths Reported in US as Flu...</td>\n",
              "      <td>Several patients including one child have died...</td>\n",
              "      <td>Child</td>\n",
              "    </tr>\n",
              "    <tr>\n",
              "      <th>417</th>\n",
              "      <td>October 2018</td>\n",
              "      <td>Medscape Medical News</td>\n",
              "      <td>Vaccine Exemptions Up for Third Year in a Row,...</td>\n",
              "      <td>Although overall vaccination coverage is high,...</td>\n",
              "      <td>Child</td>\n",
              "    </tr>\n",
              "  </tbody>\n",
              "</table>\n",
              "</div>"
            ],
            "text/plain": [
              "                 Date  ...  Label\n",
              "413    December 2018   ...  Child\n",
              "414     October 2018   ...  Child\n",
              "415     October 2018   ...  Child\n",
              "416     October 2018   ...  Child\n",
              "417     October 2018   ...  Child\n",
              "\n",
              "[5 rows x 5 columns]"
            ]
          },
          "metadata": {
            "tags": []
          },
          "execution_count": 36
        }
      ]
    },
    {
      "cell_type": "code",
      "metadata": {
        "id": "reGdDcMzN5gO",
        "colab_type": "code",
        "colab": {}
      },
      "source": [
        "immunization_df.rename(columns={'Teaser':'Headline_teaser'}, inplace=True)"
      ],
      "execution_count": 35,
      "outputs": []
    },
    {
      "cell_type": "code",
      "metadata": {
        "id": "kCm1fm_PNbEc",
        "colab_type": "code",
        "colab": {}
      },
      "source": [
        "immunization_df.to_csv('adult_and_child_immunization_news.csv',index=False)"
      ],
      "execution_count": 37,
      "outputs": []
    },
    {
      "cell_type": "code",
      "metadata": {
        "id": "sEpqic7iOqBU",
        "colab_type": "code",
        "colab": {}
      },
      "source": [
        "test = pd.read_csv('/content/adult_and_child_immunization_news.csv')"
      ],
      "execution_count": 38,
      "outputs": []
    },
    {
      "cell_type": "code",
      "metadata": {
        "id": "6oTP3v6EOzdM",
        "colab_type": "code",
        "colab": {
          "base_uri": "https://localhost:8080/",
          "height": 191
        },
        "outputId": "0cdf6826-54aa-4c7b-a021-7d7159149873"
      },
      "source": [
        "test.head()"
      ],
      "execution_count": 39,
      "outputs": [
        {
          "output_type": "execute_result",
          "data": {
            "text/html": [
              "<div>\n",
              "<style scoped>\n",
              "    .dataframe tbody tr th:only-of-type {\n",
              "        vertical-align: middle;\n",
              "    }\n",
              "\n",
              "    .dataframe tbody tr th {\n",
              "        vertical-align: top;\n",
              "    }\n",
              "\n",
              "    .dataframe thead th {\n",
              "        text-align: right;\n",
              "    }\n",
              "</style>\n",
              "<table border=\"1\" class=\"dataframe\">\n",
              "  <thead>\n",
              "    <tr style=\"text-align: right;\">\n",
              "      <th></th>\n",
              "      <th>Date</th>\n",
              "      <th>Source</th>\n",
              "      <th>Headlines</th>\n",
              "      <th>Headline_teaser</th>\n",
              "      <th>Label</th>\n",
              "    </tr>\n",
              "  </thead>\n",
              "  <tbody>\n",
              "    <tr>\n",
              "      <th>0</th>\n",
              "      <td>October 2004</td>\n",
              "      <td>Medscape Infectious Diseases</td>\n",
              "      <td>Infectious Diseases: October 30, 2004</td>\n",
              "      <td>Dr. Bartlett reviews the latest on influenza, ...</td>\n",
              "      <td>Adult</td>\n",
              "    </tr>\n",
              "    <tr>\n",
              "      <th>1</th>\n",
              "      <td>July 2004</td>\n",
              "      <td>Journal of the American Board of Family Medicine</td>\n",
              "      <td>Influenza Vaccination in Pregnancy</td>\n",
              "      <td>Are enough family physicians and obstetricians...</td>\n",
              "      <td>Adult</td>\n",
              "    </tr>\n",
              "    <tr>\n",
              "      <th>2</th>\n",
              "      <td>June 2004</td>\n",
              "      <td>Medscape Nurses</td>\n",
              "      <td>Bacterial Meningitis: A Deadly But Preventable...</td>\n",
              "      <td>Those whose lives have been touched by this le...</td>\n",
              "      <td>Adult</td>\n",
              "    </tr>\n",
              "    <tr>\n",
              "      <th>3</th>\n",
              "      <td>April 2004</td>\n",
              "      <td>Alimentary Pharmacology &amp; Therapeutics</td>\n",
              "      <td>Hepatitis Vaccination in Patients With Chronic...</td>\n",
              "      <td>Despite a declining incidence of acute viral h...</td>\n",
              "      <td>Adult</td>\n",
              "    </tr>\n",
              "    <tr>\n",
              "      <th>4</th>\n",
              "      <td>November 2003</td>\n",
              "      <td>Medscape Infectious Diseases</td>\n",
              "      <td>Emerging Infections</td>\n",
              "      <td>Dr. John Bartlett reports on the latest data f...</td>\n",
              "      <td>Adult</td>\n",
              "    </tr>\n",
              "  </tbody>\n",
              "</table>\n",
              "</div>"
            ],
            "text/plain": [
              "               Date  ...  Label\n",
              "0     October 2004   ...  Adult\n",
              "1        July 2004   ...  Adult\n",
              "2        June 2004   ...  Adult\n",
              "3       April 2004   ...  Adult\n",
              "4    November 2003   ...  Adult\n",
              "\n",
              "[5 rows x 5 columns]"
            ]
          },
          "metadata": {
            "tags": []
          },
          "execution_count": 39
        }
      ]
    },
    {
      "cell_type": "code",
      "metadata": {
        "id": "wcH_frO1O0nP",
        "colab_type": "code",
        "colab": {
          "base_uri": "https://localhost:8080/",
          "height": 212
        },
        "outputId": "20d71102-6108-4763-f03c-a53ba697c08e"
      },
      "source": [
        "test.info()"
      ],
      "execution_count": 40,
      "outputs": [
        {
          "output_type": "stream",
          "text": [
            "<class 'pandas.core.frame.DataFrame'>\n",
            "RangeIndex: 2729 entries, 0 to 2728\n",
            "Data columns (total 5 columns):\n",
            " #   Column           Non-Null Count  Dtype \n",
            "---  ------           --------------  ----- \n",
            " 0   Date             2729 non-null   object\n",
            " 1   Source           2729 non-null   object\n",
            " 2   Headlines        2729 non-null   object\n",
            " 3   Headline_teaser  2729 non-null   object\n",
            " 4   Label            2729 non-null   object\n",
            "dtypes: object(5)\n",
            "memory usage: 106.7+ KB\n"
          ],
          "name": "stdout"
        }
      ]
    },
    {
      "cell_type": "code",
      "metadata": {
        "id": "Dfvw2E_AUOZk",
        "colab_type": "code",
        "colab": {}
      },
      "source": [
        ""
      ],
      "execution_count": null,
      "outputs": []
    }
  ]
}